{
 "cells": [
  {
   "cell_type": "code",
   "execution_count": 1,
   "id": "de3185a8",
   "metadata": {},
   "outputs": [],
   "source": [
    "from sklearn.datasets import make_classification\n",
    "import numpy as np\n",
    "X, y = make_classification(n_samples=100, n_features=2, n_informative=1,n_redundant=0,\n",
    "                           n_classes=2, n_clusters_per_class=1, random_state=41,hypercube=False,class_sep=10)"
   ]
  },
  {
   "cell_type": "code",
   "execution_count": null,
   "id": "d637953c",
   "metadata": {},
   "outputs": [],
   "source": [
    "import matplotlib.pyplot as plt"
   ]
  },
  {
   "cell_type": "code",
   "execution_count": null,
   "id": "4a1a4bfd",
   "metadata": {},
   "outputs": [],
   "source": [
    "plt.figure(figsize=(10,6))\n",
    "plt.scatter(X[:,0],X[:,1],c=y,cmap='winter',s=100)"
   ]
  },
  {
   "cell_type": "code",
   "execution_count": null,
   "id": "dda12e85",
   "metadata": {},
   "outputs": [],
   "source": [
    "def perceptron(X,y):\n",
    "    \n",
    "    X = np.insert(X,0,1,axis=1)\n",
    "    weights = np.ones(X.shape[1])\n",
    "    lr = 0.1\n",
    "    \n",
    "    for i in range(1000):\n",
    "        j = np.random.randint(0,100)\n",
    "        y_hat = step(np.dot(X[j],weights))\n",
    "        weights = weights + lr*(y[j]-y_hat)*X[j]\n",
    "        \n",
    "    return weights[0],weights[1:]\n",
    "        "
   ]
  },
  {
   "cell_type": "code",
   "execution_count": null,
   "id": "b0e13474",
   "metadata": {},
   "outputs": [],
   "source": [
    "def step(z):\n",
    "    return 1 if z>0 else 0"
   ]
  },
  {
   "cell_type": "code",
   "execution_count": null,
   "id": "e3c318bb",
   "metadata": {},
   "outputs": [],
   "source": [
    "intercept_,coef_ = perceptron(X,y)"
   ]
  },
  {
   "cell_type": "code",
   "execution_count": null,
   "id": "28c0dee0",
   "metadata": {},
   "outputs": [],
   "source": [
    "print(coef_)\n",
    "print(intercept_)\n"
   ]
  },
  {
   "cell_type": "code",
   "execution_count": null,
   "id": "f171fc1f",
   "metadata": {},
   "outputs": [],
   "source": [
    "m = -(coef_[0]/coef_[1])\n",
    "b = -(intercept_/coef_[1])"
   ]
  },
  {
   "cell_type": "code",
   "execution_count": null,
   "id": "3d55f929",
   "metadata": {},
   "outputs": [],
   "source": [
    "x_input = np.linspace(-3,3,100)\n",
    "y_input = m*x_input + b"
   ]
  },
  {
   "cell_type": "code",
   "execution_count": null,
   "id": "c8fca52e",
   "metadata": {},
   "outputs": [],
   "source": [
    "plt.figure(figsize=(10,6))\n",
    "plt.plot(x_input,y_input,color='red',linewidth=3)\n",
    "plt.scatter(X[:,0],X[:,1],c=y,cmap='winter',s=100)\n",
    "plt.ylim(-3,2)"
   ]
  },
  {
   "cell_type": "code",
   "execution_count": null,
   "id": "34bdefdf",
   "metadata": {},
   "outputs": [],
   "source": [
    "def perceptron(X,y):\n",
    "    \n",
    "    m = []\n",
    "    b = []\n",
    "    \n",
    "    X = np.insert(X,0,1,axis=1)\n",
    "    weights = np.ones(X.shape[1])\n",
    "    lr = 0.1\n",
    "    \n",
    "    for i in range(200):\n",
    "        j = np.random.randint(0,100)\n",
    "        y_hat = step(np.dot(X[j],weights))\n",
    "        weights = weights + lr*(y[j]-y_hat)*X[j]\n",
    "        \n",
    "        m.append(-(weights[1]/weights[2]))\n",
    "        b.append(-(weights[0]/weights[2]))\n",
    "        \n",
    "    return m,b"
   ]
  },
  {
   "cell_type": "code",
   "execution_count": null,
   "id": "ad8075e8",
   "metadata": {},
   "outputs": [],
   "source": [
    "m,b = perceptron(X,y)"
   ]
  },
  {
   "cell_type": "code",
   "execution_count": null,
   "id": "93ab0771",
   "metadata": {},
   "outputs": [],
   "source": [
    "%matplotlib notebook\n",
    "from matplotlib.animation import FuncAnimation\n",
    "import matplotlib.animation as animation"
   ]
  },
  {
   "cell_type": "code",
   "execution_count": null,
   "id": "fb0b9974",
   "metadata": {},
   "outputs": [],
   "source": [
    "fig, ax = plt.subplots(figsize=(9,5))\n",
    "\n",
    "x_i = np.arange(-3, 3, 0.1)\n",
    "y_i = x_i*m[0] +b[0]\n",
    "ax.scatter(X[:,0],X[:,1],c=y,cmap='winter',s=100)\n",
    "line, = ax.plot(x_i, x_i*m[0] +b[0] , 'r-', linewidth=2)\n",
    "plt.ylim(-3,3)\n",
    "def update(i):\n",
    "    label = 'epoch {0}'.format(i + 1)\n",
    "    line.set_ydata(x_i*m[i] + b[i])\n",
    "    ax.set_xlabel(label)\n",
    "    # return line, ax\n",
    "\n",
    "anim = FuncAnimation(fig, update, repeat=True, frames=200, interval=100)"
   ]
  },
  {
   "cell_type": "code",
   "execution_count": null,
   "id": "49f146b0",
   "metadata": {},
   "outputs": [],
   "source": []
  },
  {
   "cell_type": "code",
   "execution_count": null,
   "id": "e6e0633f",
   "metadata": {},
   "outputs": [],
   "source": []
  },
  {
   "cell_type": "code",
   "execution_count": null,
   "id": "17389470",
   "metadata": {},
   "outputs": [],
   "source": []
  },
  {
   "cell_type": "code",
   "execution_count": null,
   "id": "f9be8e20",
   "metadata": {},
   "outputs": [],
   "source": []
  }
 ],
 "metadata": {
  "kernelspec": {
   "display_name": "Python 3 (ipykernel)",
   "language": "python",
   "name": "python3"
  },
  "language_info": {
   "codemirror_mode": {
    "name": "ipython",
    "version": 3
   },
   "file_extension": ".py",
   "mimetype": "text/x-python",
   "name": "python",
   "nbconvert_exporter": "python",
   "pygments_lexer": "ipython3",
   "version": "3.11.5"
  }
 },
 "nbformat": 4,
 "nbformat_minor": 5
}
