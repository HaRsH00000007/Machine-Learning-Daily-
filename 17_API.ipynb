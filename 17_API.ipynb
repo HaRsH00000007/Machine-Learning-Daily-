{
 "cells": [
  {
   "cell_type": "code",
   "execution_count": 5,
   "id": "66498032",
   "metadata": {},
   "outputs": [
    {
     "name": "stdout",
     "output_type": "stream",
     "text": [
      "{'forecast5Day': [{'dayOfWeek': 'friday', 'am': {'summary': 'light snow', 'windSpeed': '20mph', 'windDirection': 'SSW', 'snow': '2in', 'rain': '0in', 'maxTemp': '18°F', 'minTemp': '18°F', 'windChill': '1°F', 'humidity': '96%', 'freezeLevel': '6200ft'}, 'pm': {'summary': 'light snow', 'windSpeed': '20mph', 'windDirection': 'W', 'snow': '2in', 'rain': '0in', 'maxTemp': '16°F', 'minTemp': '14°F', 'windChill': '-4°F', 'humidity': '84%', 'freezeLevel': '6600ft'}, 'night': {'summary': 'snow showers', 'windSpeed': '20mph', 'windDirection': 'WSW', 'snow': '0in', 'rain': '0in', 'maxTemp': '12°F', 'minTemp': '10°F', 'windChill': '-6°F', 'humidity': '95%', 'freezeLevel': '3600ft'}}, {'dayOfWeek': 'saturday', 'am': {'summary': 'light snow', 'windSpeed': '5mph', 'windDirection': 'SW', 'snow': '0in', 'rain': '0in', 'maxTemp': '12°F', 'minTemp': '10°F', 'windChill': '1°F', 'humidity': '91%', 'freezeLevel': '4100ft'}, 'pm': {'summary': 'light snow', 'windSpeed': '10mph', 'windDirection': 'SW', 'snow': '0.4in', 'rain': '0in', 'maxTemp': '16°F', 'minTemp': '14°F', 'windChill': '3°F', 'humidity': '82%', 'freezeLevel': '6100ft'}, 'night': {'summary': 'light snow', 'windSpeed': '5mph', 'windDirection': 'SSE', 'snow': '0.4in', 'rain': '0in', 'maxTemp': '16°F', 'minTemp': '14°F', 'windChill': '7°F', 'humidity': '70%', 'freezeLevel': '4600ft'}}, {'dayOfWeek': 'sunday', 'am': {'summary': 'light snow', 'windSpeed': '5mph', 'windDirection': 'SSW', 'snow': '1in', 'rain': '0in', 'maxTemp': '16°F', 'minTemp': '14°F', 'windChill': '7°F', 'humidity': '92%', 'freezeLevel': '5400ft'}, 'pm': {'summary': 'snow showers', 'windSpeed': '10mph', 'windDirection': 'WSW', 'snow': '0in', 'rain': '0in', 'maxTemp': '18°F', 'minTemp': '18°F', 'windChill': '5°F', 'humidity': '91%', 'freezeLevel': '7100ft'}, 'night': {'summary': 'light snow', 'windSpeed': '5mph', 'windDirection': 'S', 'snow': '0in', 'rain': '0in', 'maxTemp': '19°F', 'minTemp': '19°F', 'windChill': '10°F', 'humidity': '86%', 'freezeLevel': '5700ft'}}, {'dayOfWeek': 'monday', 'am': {'summary': 'light snow', 'windSpeed': '5mph', 'windDirection': 'SE', 'snow': '0.4in', 'rain': '0in', 'maxTemp': '19°F', 'minTemp': '19°F', 'windChill': '12°F', 'humidity': '90%', 'freezeLevel': '6400ft'}, 'pm': {'summary': 'light snow', 'windSpeed': '5mph', 'windDirection': 'SSE', 'snow': '1in', 'rain': '0in', 'maxTemp': '21°F', 'minTemp': '21°F', 'windChill': '16°F', 'humidity': '96%', 'freezeLevel': '7500ft'}, 'night': {'summary': 'light snow', 'windSpeed': '5mph', 'windDirection': 'WNW', 'snow': '1in', 'rain': '0in', 'maxTemp': '19°F', 'minTemp': '16°F', 'windChill': '7°F', 'humidity': '83%', 'freezeLevel': '5600ft'}}, {'dayOfWeek': 'tuesday', 'am': {'summary': 'light snow', 'windSpeed': '5mph', 'windDirection': 'NNW', 'snow': '0in', 'rain': '0in', 'maxTemp': '16°F', 'minTemp': '16°F', 'windChill': '7°F', 'humidity': '87%', 'freezeLevel': '5700ft'}, 'pm': {'summary': 'snow showers', 'windSpeed': '10mph', 'windDirection': 'N', 'snow': '0in', 'rain': '0in', 'maxTemp': '21°F', 'minTemp': '19°F', 'windChill': '9°F', 'humidity': '89%', 'freezeLevel': '7400ft'}, 'night': {'summary': 'clear', 'windSpeed': '5mph', 'windDirection': 'N', 'snow': '0in', 'rain': '0in', 'maxTemp': '23°F', 'minTemp': '21°F', 'windChill': '10°F', 'humidity': '62%', 'freezeLevel': '6100ft'}}], 'summary3Day': 'The snow forecast for Jackson Hole is: A moderate fall of snow, heaviest on Thu afternoon. Temperatures will be well below freezing (max 18°F on Wed night, min 10°F on Thu night). Winds decreasing (strong winds from the WSW on Thu night, calm by Fri night).', 'summaryDays4To6': 'A light covering of new snow, mostly falling on Sun night. Temperatures will be below freezing (max 27°F on Tue morning, min 16°F on Sun night). Wind will be generally light.', 'basicInfo': {'region': 'USA - Wyoming', 'name': 'Jackson Hole', 'url': 'https://www.snow-forecast.com/resorts/Jackson-Hole/6day/top', 'topLiftElevation': '10447ft', 'midLiftElevation': '8380ft', 'botLiftElevation': '6309ft', 'lat': '43.60', 'lon': '-110.85'}}\n"
     ]
    }
   ],
   "source": [
    "import requests\n",
    "\n",
    "url = \"https://ski-resort-forecast.p.rapidapi.com/Jackson%20Hole/forecast\"\n",
    "\n",
    "querystring = {\"units\":\"i\",\"el\":\"top\"}\n",
    "\n",
    "headers = {\n",
    "\t\"X-RapidAPI-Key\": \"1746014fb3mshf35a832a97f4d03p185a2ejsn2b9869fec8e6\",\n",
    "\t\"X-RapidAPI-Host\": \"ski-resort-forecast.p.rapidapi.com\"\n",
    "}\n",
    "\n",
    "response = requests.get(url, headers=headers, params=querystring)\n",
    "\n",
    "print(response.json())"
   ]
  },
  {
   "cell_type": "code",
   "execution_count": 12,
   "id": "0e44cf2f",
   "metadata": {},
   "outputs": [
    {
     "data": {
      "text/plain": [
       "<bound method Response.json of <Response [200]>>"
      ]
     },
     "execution_count": 12,
     "metadata": {},
     "output_type": "execute_result"
    }
   ],
   "source": [
    "response.json"
   ]
  },
  {
   "cell_type": "code",
   "execution_count": 8,
   "id": "8098ba8d",
   "metadata": {},
   "outputs": [
    {
     "data": {
      "text/plain": [
       "<Response [401]>"
      ]
     },
     "execution_count": 8,
     "metadata": {},
     "output_type": "execute_result"
    }
   ],
   "source": [
    "requests.get('https://ski-resort-forecast.p.rapidapi.com/Jackson%20Hole/forecast?apikey=1746014fb3mshf35a832a97f4d03p185a2ejsn2b9869fec8e6')"
   ]
  },
  {
   "cell_type": "code",
   "execution_count": 14,
   "id": "7d909ff5",
   "metadata": {},
   "outputs": [],
   "source": [
    "df = pd.DataFrame(response.json()['forecast5Day']).head(2)[['am','pm','dayOfWeek']]"
   ]
  },
  {
   "cell_type": "code",
   "execution_count": 15,
   "id": "2a84b24c",
   "metadata": {},
   "outputs": [
    {
     "data": {
      "text/html": [
       "<div>\n",
       "<style scoped>\n",
       "    .dataframe tbody tr th:only-of-type {\n",
       "        vertical-align: middle;\n",
       "    }\n",
       "\n",
       "    .dataframe tbody tr th {\n",
       "        vertical-align: top;\n",
       "    }\n",
       "\n",
       "    .dataframe thead th {\n",
       "        text-align: right;\n",
       "    }\n",
       "</style>\n",
       "<table border=\"1\" class=\"dataframe\">\n",
       "  <thead>\n",
       "    <tr style=\"text-align: right;\">\n",
       "      <th></th>\n",
       "      <th>am</th>\n",
       "      <th>pm</th>\n",
       "      <th>dayOfWeek</th>\n",
       "    </tr>\n",
       "  </thead>\n",
       "  <tbody>\n",
       "    <tr>\n",
       "      <th>0</th>\n",
       "      <td>{'summary': 'light snow', 'windSpeed': '20mph'...</td>\n",
       "      <td>{'summary': 'light snow', 'windSpeed': '20mph'...</td>\n",
       "      <td>friday</td>\n",
       "    </tr>\n",
       "    <tr>\n",
       "      <th>1</th>\n",
       "      <td>{'summary': 'light snow', 'windSpeed': '5mph',...</td>\n",
       "      <td>{'summary': 'light snow', 'windSpeed': '10mph'...</td>\n",
       "      <td>saturday</td>\n",
       "    </tr>\n",
       "  </tbody>\n",
       "</table>\n",
       "</div>"
      ],
      "text/plain": [
       "                                                  am  \\\n",
       "0  {'summary': 'light snow', 'windSpeed': '20mph'...   \n",
       "1  {'summary': 'light snow', 'windSpeed': '5mph',...   \n",
       "\n",
       "                                                  pm dayOfWeek  \n",
       "0  {'summary': 'light snow', 'windSpeed': '20mph'...    friday  \n",
       "1  {'summary': 'light snow', 'windSpeed': '10mph'...  saturday  "
      ]
     },
     "execution_count": 15,
     "metadata": {},
     "output_type": "execute_result"
    }
   ],
   "source": [
    "df.head()"
   ]
  },
  {
   "cell_type": "code",
   "execution_count": null,
   "id": "ccf9b16b",
   "metadata": {},
   "outputs": [],
   "source": []
  }
 ],
 "metadata": {
  "kernelspec": {
   "display_name": "Python 3 (ipykernel)",
   "language": "python",
   "name": "python3"
  },
  "language_info": {
   "codemirror_mode": {
    "name": "ipython",
    "version": 3
   },
   "file_extension": ".py",
   "mimetype": "text/x-python",
   "name": "python",
   "nbconvert_exporter": "python",
   "pygments_lexer": "ipython3",
   "version": "3.11.5"
  }
 },
 "nbformat": 4,
 "nbformat_minor": 5
}
