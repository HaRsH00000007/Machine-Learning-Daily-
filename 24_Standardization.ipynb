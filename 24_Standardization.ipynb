{
 "cells": [
  {
   "cell_type": "code",
   "execution_count": 1,
   "id": "6d84f7d4",
   "metadata": {},
   "outputs": [],
   "source": [
    "import numpy as np # Linear algebra\n",
    "import pandas as pd # data processing\n",
    "import matplotlib.pyplot as plt\n",
    "import seaborn as sns"
   ]
  },
  {
   "cell_type": "code",
   "execution_count": 2,
   "id": "d3771ba9",
   "metadata": {},
   "outputs": [],
   "source": [
    "df = pd.read_csv('Social_Network_Ads.csv')"
   ]
  },
  {
   "cell_type": "code",
   "execution_count": 3,
   "id": "734a135f",
   "metadata": {},
   "outputs": [],
   "source": [
    "df=df.iloc[:,2:]"
   ]
  },
  {
   "cell_type": "code",
   "execution_count": 4,
   "id": "85bd78a2",
   "metadata": {},
   "outputs": [
    {
     "data": {
      "text/html": [
       "<div>\n",
       "<style scoped>\n",
       "    .dataframe tbody tr th:only-of-type {\n",
       "        vertical-align: middle;\n",
       "    }\n",
       "\n",
       "    .dataframe tbody tr th {\n",
       "        vertical-align: top;\n",
       "    }\n",
       "\n",
       "    .dataframe thead th {\n",
       "        text-align: right;\n",
       "    }\n",
       "</style>\n",
       "<table border=\"1\" class=\"dataframe\">\n",
       "  <thead>\n",
       "    <tr style=\"text-align: right;\">\n",
       "      <th></th>\n",
       "      <th>Age</th>\n",
       "      <th>EstimatedSalary</th>\n",
       "      <th>Purchased</th>\n",
       "    </tr>\n",
       "  </thead>\n",
       "  <tbody>\n",
       "    <tr>\n",
       "      <th>47</th>\n",
       "      <td>27</td>\n",
       "      <td>54000</td>\n",
       "      <td>0</td>\n",
       "    </tr>\n",
       "    <tr>\n",
       "      <th>3</th>\n",
       "      <td>27</td>\n",
       "      <td>57000</td>\n",
       "      <td>0</td>\n",
       "    </tr>\n",
       "    <tr>\n",
       "      <th>223</th>\n",
       "      <td>60</td>\n",
       "      <td>102000</td>\n",
       "      <td>1</td>\n",
       "    </tr>\n",
       "    <tr>\n",
       "      <th>1</th>\n",
       "      <td>35</td>\n",
       "      <td>20000</td>\n",
       "      <td>0</td>\n",
       "    </tr>\n",
       "    <tr>\n",
       "      <th>189</th>\n",
       "      <td>28</td>\n",
       "      <td>32000</td>\n",
       "      <td>0</td>\n",
       "    </tr>\n",
       "  </tbody>\n",
       "</table>\n",
       "</div>"
      ],
      "text/plain": [
       "     Age  EstimatedSalary  Purchased\n",
       "47    27            54000          0\n",
       "3     27            57000          0\n",
       "223   60           102000          1\n",
       "1     35            20000          0\n",
       "189   28            32000          0"
      ]
     },
     "execution_count": 4,
     "metadata": {},
     "output_type": "execute_result"
    }
   ],
   "source": [
    "df.sample(5)"
   ]
  },
  {
   "cell_type": "markdown",
   "id": "0fcf6207",
   "metadata": {},
   "source": [
    "# Train Test Split"
   ]
  },
  {
   "cell_type": "code",
   "execution_count": 5,
   "id": "1abc9fa9",
   "metadata": {},
   "outputs": [
    {
     "data": {
      "text/plain": [
       "((280, 2), (120, 2))"
      ]
     },
     "execution_count": 5,
     "metadata": {},
     "output_type": "execute_result"
    }
   ],
   "source": [
    "from sklearn.model_selection import train_test_split\n",
    "X_train, X_test, Y_train, Y_test = train_test_split(df.drop('Purchased',axis=1),\n",
    "                                                   df['Purchased'],\n",
    "                                                   test_size=0.3,\n",
    "                                                   random_state=0)\n",
    "X_train.shape, X_test.shape"
   ]
  },
  {
   "cell_type": "markdown",
   "id": "a8e2e82b",
   "metadata": {},
   "source": [
    "# StandardScaler"
   ]
  },
  {
   "cell_type": "code",
   "execution_count": 11,
   "id": "5d2f5127",
   "metadata": {},
   "outputs": [],
   "source": [
    "from sklearn.preprocessing import StandardScaler\n",
    "scaler = StandardScaler()\n",
    "\n",
    "#fit the scaler to the train set , it will learn parameters\n",
    "scaler.fit(df.drop('Purchased',axis=1))\n",
    "#scaler.fit(X_train)\n",
    "\n",
    "\n",
    "# Transform train and test sets\n",
    "X_train_scaled = scaler.transform(X_train)\n",
    "X_test_scaled = scaler.transform(X_test)"
   ]
  },
  {
   "cell_type": "code",
   "execution_count": 12,
   "id": "cb970e78",
   "metadata": {},
   "outputs": [
    {
     "data": {
      "text/html": [
       "<div>\n",
       "<style scoped>\n",
       "    .dataframe tbody tr th:only-of-type {\n",
       "        vertical-align: middle;\n",
       "    }\n",
       "\n",
       "    .dataframe tbody tr th {\n",
       "        vertical-align: top;\n",
       "    }\n",
       "\n",
       "    .dataframe thead th {\n",
       "        text-align: right;\n",
       "    }\n",
       "</style>\n",
       "<table border=\"1\" class=\"dataframe\">\n",
       "  <thead>\n",
       "    <tr style=\"text-align: right;\">\n",
       "      <th></th>\n",
       "      <th>0</th>\n",
       "      <th>1</th>\n",
       "    </tr>\n",
       "  </thead>\n",
       "  <tbody>\n",
       "    <tr>\n",
       "      <th>count</th>\n",
       "      <td>120.000000</td>\n",
       "      <td>120.000000</td>\n",
       "    </tr>\n",
       "    <tr>\n",
       "      <th>mean</th>\n",
       "      <td>-0.046642</td>\n",
       "      <td>-0.004429</td>\n",
       "    </tr>\n",
       "    <tr>\n",
       "      <th>std</th>\n",
       "      <td>1.060654</td>\n",
       "      <td>0.967094</td>\n",
       "    </tr>\n",
       "    <tr>\n",
       "      <th>min</th>\n",
       "      <td>-1.877311</td>\n",
       "      <td>-1.607506</td>\n",
       "    </tr>\n",
       "    <tr>\n",
       "      <th>25%</th>\n",
       "      <td>-0.922179</td>\n",
       "      <td>-0.667830</td>\n",
       "    </tr>\n",
       "    <tr>\n",
       "      <th>50%</th>\n",
       "      <td>-0.158074</td>\n",
       "      <td>-0.153945</td>\n",
       "    </tr>\n",
       "    <tr>\n",
       "      <th>75%</th>\n",
       "      <td>0.725422</td>\n",
       "      <td>0.506764</td>\n",
       "    </tr>\n",
       "    <tr>\n",
       "      <th>max</th>\n",
       "      <td>2.134241</td>\n",
       "      <td>2.356750</td>\n",
       "    </tr>\n",
       "  </tbody>\n",
       "</table>\n",
       "</div>"
      ],
      "text/plain": [
       "                0           1\n",
       "count  120.000000  120.000000\n",
       "mean    -0.046642   -0.004429\n",
       "std      1.060654    0.967094\n",
       "min     -1.877311   -1.607506\n",
       "25%     -0.922179   -0.667830\n",
       "50%     -0.158074   -0.153945\n",
       "75%      0.725422    0.506764\n",
       "max      2.134241    2.356750"
      ]
     },
     "execution_count": 12,
     "metadata": {},
     "output_type": "execute_result"
    }
   ],
   "source": [
    "pd.DataFrame(X_test_scaled).describe()"
   ]
  },
  {
   "cell_type": "code",
   "execution_count": 10,
   "id": "7563681a",
   "metadata": {},
   "outputs": [
    {
     "data": {
      "text/html": [
       "<div>\n",
       "<style scoped>\n",
       "    .dataframe tbody tr th:only-of-type {\n",
       "        vertical-align: middle;\n",
       "    }\n",
       "\n",
       "    .dataframe tbody tr th {\n",
       "        vertical-align: top;\n",
       "    }\n",
       "\n",
       "    .dataframe thead th {\n",
       "        text-align: right;\n",
       "    }\n",
       "</style>\n",
       "<table border=\"1\" class=\"dataframe\">\n",
       "  <thead>\n",
       "    <tr style=\"text-align: right;\">\n",
       "      <th></th>\n",
       "      <th>0</th>\n",
       "      <th>1</th>\n",
       "    </tr>\n",
       "  </thead>\n",
       "  <tbody>\n",
       "    <tr>\n",
       "      <th>count</th>\n",
       "      <td>120.000000</td>\n",
       "      <td>120.000000</td>\n",
       "    </tr>\n",
       "    <tr>\n",
       "      <th>mean</th>\n",
       "      <td>-0.068394</td>\n",
       "      <td>-0.006231</td>\n",
       "    </tr>\n",
       "    <tr>\n",
       "      <th>std</th>\n",
       "      <td>1.088712</td>\n",
       "      <td>0.952412</td>\n",
       "    </tr>\n",
       "    <tr>\n",
       "      <th>min</th>\n",
       "      <td>-1.947491</td>\n",
       "      <td>-1.584970</td>\n",
       "    </tr>\n",
       "    <tr>\n",
       "      <th>25%</th>\n",
       "      <td>-0.967093</td>\n",
       "      <td>-0.659561</td>\n",
       "    </tr>\n",
       "    <tr>\n",
       "      <th>50%</th>\n",
       "      <td>-0.182774</td>\n",
       "      <td>-0.153478</td>\n",
       "    </tr>\n",
       "    <tr>\n",
       "      <th>75%</th>\n",
       "      <td>0.724094</td>\n",
       "      <td>0.497201</td>\n",
       "    </tr>\n",
       "    <tr>\n",
       "      <th>max</th>\n",
       "      <td>2.170181</td>\n",
       "      <td>2.319101</td>\n",
       "    </tr>\n",
       "  </tbody>\n",
       "</table>\n",
       "</div>"
      ],
      "text/plain": [
       "                0           1\n",
       "count  120.000000  120.000000\n",
       "mean    -0.068394   -0.006231\n",
       "std      1.088712    0.952412\n",
       "min     -1.947491   -1.584970\n",
       "25%     -0.967093   -0.659561\n",
       "50%     -0.182774   -0.153478\n",
       "75%      0.724094    0.497201\n",
       "max      2.170181    2.319101"
      ]
     },
     "execution_count": 10,
     "metadata": {},
     "output_type": "execute_result"
    }
   ],
   "source": [
    "pd.DataFrame(X_test_scaled).describe()\n"
   ]
  },
  {
   "cell_type": "code",
   "execution_count": 7,
   "id": "a4bde29a",
   "metadata": {},
   "outputs": [
    {
     "data": {
      "text/plain": [
       "array([3.76550e+01, 6.97425e+04])"
      ]
     },
     "execution_count": 7,
     "metadata": {},
     "output_type": "execute_result"
    }
   ],
   "source": [
    "scaler.mean_"
   ]
  },
  {
   "cell_type": "code",
   "execution_count": 8,
   "id": "d8499a57",
   "metadata": {},
   "outputs": [
    {
     "data": {
      "text/html": [
       "<div>\n",
       "<style scoped>\n",
       "    .dataframe tbody tr th:only-of-type {\n",
       "        vertical-align: middle;\n",
       "    }\n",
       "\n",
       "    .dataframe tbody tr th {\n",
       "        vertical-align: top;\n",
       "    }\n",
       "\n",
       "    .dataframe thead th {\n",
       "        text-align: right;\n",
       "    }\n",
       "</style>\n",
       "<table border=\"1\" class=\"dataframe\">\n",
       "  <thead>\n",
       "    <tr style=\"text-align: right;\">\n",
       "      <th></th>\n",
       "      <th>Age</th>\n",
       "      <th>EstimatedSalary</th>\n",
       "    </tr>\n",
       "  </thead>\n",
       "  <tbody>\n",
       "    <tr>\n",
       "      <th>92</th>\n",
       "      <td>26</td>\n",
       "      <td>15000</td>\n",
       "    </tr>\n",
       "    <tr>\n",
       "      <th>223</th>\n",
       "      <td>60</td>\n",
       "      <td>102000</td>\n",
       "    </tr>\n",
       "    <tr>\n",
       "      <th>234</th>\n",
       "      <td>38</td>\n",
       "      <td>112000</td>\n",
       "    </tr>\n",
       "    <tr>\n",
       "      <th>232</th>\n",
       "      <td>40</td>\n",
       "      <td>107000</td>\n",
       "    </tr>\n",
       "    <tr>\n",
       "      <th>377</th>\n",
       "      <td>42</td>\n",
       "      <td>53000</td>\n",
       "    </tr>\n",
       "    <tr>\n",
       "      <th>...</th>\n",
       "      <td>...</td>\n",
       "      <td>...</td>\n",
       "    </tr>\n",
       "    <tr>\n",
       "      <th>323</th>\n",
       "      <td>48</td>\n",
       "      <td>30000</td>\n",
       "    </tr>\n",
       "    <tr>\n",
       "      <th>192</th>\n",
       "      <td>29</td>\n",
       "      <td>43000</td>\n",
       "    </tr>\n",
       "    <tr>\n",
       "      <th>117</th>\n",
       "      <td>36</td>\n",
       "      <td>52000</td>\n",
       "    </tr>\n",
       "    <tr>\n",
       "      <th>47</th>\n",
       "      <td>27</td>\n",
       "      <td>54000</td>\n",
       "    </tr>\n",
       "    <tr>\n",
       "      <th>172</th>\n",
       "      <td>26</td>\n",
       "      <td>118000</td>\n",
       "    </tr>\n",
       "  </tbody>\n",
       "</table>\n",
       "<p>280 rows × 2 columns</p>\n",
       "</div>"
      ],
      "text/plain": [
       "     Age  EstimatedSalary\n",
       "92    26            15000\n",
       "223   60           102000\n",
       "234   38           112000\n",
       "232   40           107000\n",
       "377   42            53000\n",
       "..   ...              ...\n",
       "323   48            30000\n",
       "192   29            43000\n",
       "117   36            52000\n",
       "47    27            54000\n",
       "172   26           118000\n",
       "\n",
       "[280 rows x 2 columns]"
      ]
     },
     "execution_count": 8,
     "metadata": {},
     "output_type": "execute_result"
    }
   ],
   "source": [
    "X_train"
   ]
  },
  {
   "cell_type": "code",
   "execution_count": 9,
   "id": "3fd92cac",
   "metadata": {},
   "outputs": [
    {
     "data": {
      "text/plain": [
       "array([[-1.11320552, -1.60750566],\n",
       "       [ 2.13424088,  0.94723686],\n",
       "       [ 0.03295203,  1.24088543],\n",
       "       [ 0.22397829,  1.09406114],\n",
       "       [ 0.41500455, -0.49164111],\n",
       "       [-0.25358736, -0.31545197],\n",
       "       [ 0.98808332, -0.84401939],\n",
       "       [ 0.98808332,  1.88691227],\n",
       "       [ 0.03295203,  1.27025028],\n",
       "       [-0.82666613,  2.29802026],\n",
       "       [-1.11320552, -1.60750566],\n",
       "       [ 2.13424088, -0.81465453],\n",
       "       [-1.30423178, -1.49004624],\n",
       "       [ 0.41500455,  2.32738512],\n",
       "       [ 0.79705706,  0.77104772],\n",
       "       [-0.92217926, -0.31545197],\n",
       "       [ 0.12846516,  0.77104772],\n",
       "       [-0.92217926,  0.56549373],\n",
       "       [ 0.31949142,  0.06629116],\n",
       "       [ 0.70154394, -1.28449224],\n",
       "       [-0.44461362, -0.02180341],\n",
       "       [-1.6862843 ,  0.35993973],\n",
       "       [-0.63563988,  0.12502088],\n",
       "       [ 0.41500455,  0.30121002],\n",
       "       [-0.25358736,  0.06629116],\n",
       "       [-0.44461362,  2.32738512],\n",
       "       [ 0.22397829,  0.03692631],\n",
       "       [ 1.27462271,  2.23929055],\n",
       "       [ 0.79705706,  0.27184516],\n",
       "       [-0.25358736,  0.15438573],\n",
       "       [ 0.03295203, -0.55037082],\n",
       "       [-0.15807423,  0.15438573],\n",
       "       [-0.0625611 ,  0.2424803 ],\n",
       "       [ 0.03295203, -0.25672226],\n",
       "       [ 2.13424088,  1.123426  ],\n",
       "       [-1.6862843 ,  0.35993973],\n",
       "       [ 1.84770149,  0.12502088],\n",
       "       [ 0.41500455, -0.13926283],\n",
       "       [-1.11320552,  0.30121002],\n",
       "       [ 0.79705706,  1.38770971],\n",
       "       [-0.25358736, -0.25672226],\n",
       "       [-1.59077117, -0.05116826],\n",
       "       [-0.92217926, -0.75592482],\n",
       "       [ 0.31949142,  0.50676401],\n",
       "       [-0.0625611 , -1.07893824],\n",
       "       [-1.01769239,  0.59485858],\n",
       "       [ 0.12846516, -0.81465453],\n",
       "       [-0.92217926,  1.56389885],\n",
       "       [-0.63563988,  1.41707457],\n",
       "       [-1.20871865,  0.50676401],\n",
       "       [-0.25358736,  0.03692631],\n",
       "       [-0.0625611 ,  0.00756145],\n",
       "       [-0.25358736, -0.9027491 ],\n",
       "       [ 0.89257019, -1.37258681],\n",
       "       [-0.25358736,  2.26865541],\n",
       "       [ 0.98808332,  2.0043717 ],\n",
       "       [-1.11320552,  0.47739916],\n",
       "       [-1.20871865,  0.27184516],\n",
       "       [ 1.37013584,  2.0043717 ],\n",
       "       [ 1.27462271, -1.37258681],\n",
       "       [-0.25358736, -0.28608712],\n",
       "       [-0.44461362,  1.27025028],\n",
       "       [-0.73115301,  1.09406114],\n",
       "       [ 0.98808332, -1.07893824],\n",
       "       [ 0.31949142,  0.30121002],\n",
       "       [ 0.98808332,  0.77104772],\n",
       "       [-0.63563988, -1.51941109],\n",
       "       [-0.63563988,  0.03692631],\n",
       "       [ 0.51051768,  1.74008799],\n",
       "       [ 2.03872775,  0.18375059],\n",
       "       [-1.87731056, -0.75592482],\n",
       "       [-0.15807423,  1.41707457],\n",
       "       [ 0.41500455,  0.59485858],\n",
       "       [ 0.89257019, -1.16703281],\n",
       "       [-1.11320552, -0.78528968],\n",
       "       [ 0.22397829,  0.2424803 ],\n",
       "       [ 0.79705706, -0.31545197],\n",
       "       [ 2.03872775, -0.81465453],\n",
       "       [ 0.79705706,  0.12502088],\n",
       "       [-0.25358736,  0.62422344],\n",
       "       [-0.92217926, -0.31545197],\n",
       "       [ 0.22397829, -0.37418169],\n",
       "       [ 2.03872775,  2.15119598],\n",
       "       [ 1.84770149, -1.28449224],\n",
       "       [ 1.37013584, -0.93211396],\n",
       "       [ 0.89257019,  1.27025028],\n",
       "       [ 1.46564897,  2.15119598],\n",
       "       [-0.25358736, -1.25512738],\n",
       "       [ 1.94321462,  0.917872  ],\n",
       "       [ 0.70154394, -0.72655996],\n",
       "       [-1.39974491,  0.35993973],\n",
       "       [ 0.79705706, -1.37258681],\n",
       "       [ 0.41500455, -0.13926283],\n",
       "       [-0.92217926,  0.41866944],\n",
       "       [ 0.03295203, -0.31545197],\n",
       "       [-1.11320552,  0.41866944],\n",
       "       [-0.82666613, -1.22576253],\n",
       "       [-0.0625611 ,  0.03692631],\n",
       "       [-1.49525804, -0.4329114 ],\n",
       "       [ 0.98808332, -1.02020853],\n",
       "       [ 1.08359645, -1.22576253],\n",
       "       [ 0.03295203, -0.13926283],\n",
       "       [-1.01769239, -1.54877595],\n",
       "       [ 0.79705706, -1.22576253],\n",
       "       [ 0.98808332,  2.09246627],\n",
       "       [-1.11320552, -1.54877595],\n",
       "       [-0.25358736,  0.80041258],\n",
       "       [ 0.12846516, -0.31545197],\n",
       "       [-1.30423178, -1.25512738],\n",
       "       [-0.54012675, -1.51941109],\n",
       "       [ 0.79705706,  0.53612887],\n",
       "       [-0.25358736, -0.34481683],\n",
       "       [ 1.75218836, -0.28608712],\n",
       "       [ 0.89257019, -1.04957339],\n",
       "       [ 0.22397829,  0.06629116],\n",
       "       [-0.54012675,  0.88850715],\n",
       "       [-1.78179743, -1.43131652],\n",
       "       [-1.20871865,  0.59485858],\n",
       "       [-0.25358736,  0.53612887],\n",
       "       [-0.92217926, -1.1083031 ],\n",
       "       [ 1.17910958, -1.46068138],\n",
       "       [ 0.22397829, -0.31545197],\n",
       "       [ 1.17910958, -0.75592482],\n",
       "       [-0.25358736,  0.06629116],\n",
       "       [ 0.22397829,  2.12183112],\n",
       "       [ 0.79705706, -1.1083031 ],\n",
       "       [ 0.12846516,  0.03692631],\n",
       "       [-1.6862843 ,  0.12502088],\n",
       "       [-0.82666613,  0.15438573],\n",
       "       [-0.63563988,  0.18375059],\n",
       "       [ 0.89257019, -1.3138571 ],\n",
       "       [ 0.22397829, -0.25672226],\n",
       "       [-0.34910049,  1.24088543],\n",
       "       [ 0.03295203,  0.30121002],\n",
       "       [ 0.41500455,  0.15438573],\n",
       "       [ 0.89257019, -0.66783025],\n",
       "       [ 0.12846516,  0.15438573],\n",
       "       [-1.78179743, -1.3138571 ],\n",
       "       [-0.0625611 ,  0.30121002],\n",
       "       [-0.15807423, -0.28608712],\n",
       "       [ 0.31949142, -0.52100597],\n",
       "       [-0.15807423,  1.62262856],\n",
       "       [ 0.98808332, -1.19639767],\n",
       "       [-0.15807423,  1.65199342],\n",
       "       [ 1.27462271,  1.88691227],\n",
       "       [-1.01769239, -0.37418169],\n",
       "       [ 0.03295203,  0.03692631],\n",
       "       [ 0.12846516, -0.25672226],\n",
       "       [-1.49525804, -1.25512738],\n",
       "       [-0.44461362, -0.28608712],\n",
       "       [ 0.98808332,  0.12502088],\n",
       "       [ 1.94321462, -1.37258681],\n",
       "       [ 1.46564897,  0.06629116],\n",
       "       [-0.54012675,  1.38770971],\n",
       "       [ 1.5611621 ,  0.00756145],\n",
       "       [-0.73115301,  0.30121002],\n",
       "       [ 1.94321462,  0.74168287],\n",
       "       [-1.11320552, -0.52100597],\n",
       "       [ 0.70154394,  0.27184516],\n",
       "       [-1.30423178, -0.4329114 ],\n",
       "       [ 0.22397829,  0.15438573],\n",
       "       [-0.44461362, -1.22576253],\n",
       "       [ 0.60603081,  2.03373655],\n",
       "       [-1.49525804, -1.51941109],\n",
       "       [-0.44461362, -0.55037082],\n",
       "       [ 0.51051768,  1.85754742],\n",
       "       [-1.30423178, -1.1083031 ],\n",
       "       [ 0.79705706, -1.40195167],\n",
       "       [-0.25358736, -0.4329114 ],\n",
       "       [ 1.5611621 ,  1.00596657],\n",
       "       [ 0.98808332,  1.44643942],\n",
       "       [-0.25358736, -0.49164111],\n",
       "       [-0.0625611 ,  2.18056084],\n",
       "       [-1.39974491, -0.10989798],\n",
       "       [-0.0625611 ,  1.97500684],\n",
       "       [-0.63563988, -0.34481683],\n",
       "       [-0.44461362, -0.84401939],\n",
       "       [ 0.70154394, -1.40195167],\n",
       "       [-0.73115301, -1.60750566],\n",
       "       [-1.78179743, -1.49004624],\n",
       "       [ 1.08359645,  0.12502088],\n",
       "       [ 0.12846516,  1.53453399],\n",
       "       [-0.25358736,  0.09565602],\n",
       "       [ 0.12846516,  0.03692631],\n",
       "       [-1.30423178, -1.37258681],\n",
       "       [ 0.31949142,  0.06629116],\n",
       "       [-0.82666613,  0.38930459],\n",
       "       [ 1.5611621 , -1.28449224],\n",
       "       [-0.25358736, -0.75592482],\n",
       "       [-0.0625611 ,  0.15438573],\n",
       "       [-0.82666613, -0.66783025],\n",
       "       [-0.63563988, -0.05116826],\n",
       "       [ 0.41500455, -0.46227625],\n",
       "       [-0.73115301,  1.91627713],\n",
       "       [ 1.37013584,  1.29961514],\n",
       "       [ 1.17910958, -0.99084367],\n",
       "       [ 1.75218836,  1.85754742],\n",
       "       [-0.82666613, -0.25672226],\n",
       "       [-0.73115301,  0.56549373],\n",
       "       [-1.11320552, -1.5781408 ],\n",
       "       [-0.44461362, -1.13766796],\n",
       "       [ 0.31949142,  0.06629116],\n",
       "       [-0.15807423, -1.07893824],\n",
       "       [ 1.65667523,  1.62262856],\n",
       "       [ 0.98808332,  1.7988177 ],\n",
       "       [ 0.31949142,  0.03692631],\n",
       "       [-0.73115301, -0.2273574 ],\n",
       "       [-0.0625611 ,  0.06629116],\n",
       "       [ 0.31949142, -0.19799255],\n",
       "       [ 1.94321462, -0.66783025],\n",
       "       [-0.73115301,  1.35834485],\n",
       "       [-1.6862843 , -0.60910054],\n",
       "       [-0.0625611 ,  0.12502088],\n",
       "       [ 0.31949142, -0.31545197],\n",
       "       [ 1.08359645,  0.56549373],\n",
       "       [-0.92217926,  0.27184516],\n",
       "       [ 1.46564897,  0.35993973],\n",
       "       [ 0.22397829, -0.37418169],\n",
       "       [ 2.13424088, -1.04957339],\n",
       "       [-0.25358736,  1.123426  ],\n",
       "       [-1.59077117,  0.06629116],\n",
       "       [ 0.03295203,  0.03692631],\n",
       "       [ 0.12846516,  1.06469629],\n",
       "       [-0.0625611 , -0.37418169],\n",
       "       [-1.11320552,  0.06629116],\n",
       "       [-0.25358736, -1.37258681],\n",
       "       [ 1.5611621 ,  1.123426  ],\n",
       "       [-0.73115301, -1.54877595],\n",
       "       [ 0.12846516,  1.88691227],\n",
       "       [-0.82666613, -0.78528968],\n",
       "       [-0.44461362, -0.78528968],\n",
       "       [-0.25358736, -0.93211396],\n",
       "       [ 0.31949142, -0.72655996],\n",
       "       [ 0.31949142,  0.06629116],\n",
       "       [ 0.12846516,  1.88691227],\n",
       "       [-1.01769239,  1.97500684],\n",
       "       [-1.59077117, -1.5781408 ],\n",
       "       [-1.11320552, -1.1083031 ],\n",
       "       [-0.63563988, -0.10989798],\n",
       "       [ 0.12846516,  0.09565602],\n",
       "       [ 0.31949142,  0.27184516],\n",
       "       [ 0.89257019, -0.57973568],\n",
       "       [ 0.31949142, -1.16703281],\n",
       "       [-0.0625611 ,  0.68295315],\n",
       "       [ 2.13424088, -0.69719511],\n",
       "       [-1.20871865, -1.40195167],\n",
       "       [-0.92217926, -0.96147882],\n",
       "       [ 0.03295203, -0.4329114 ],\n",
       "       [-0.15807423, -0.46227625],\n",
       "       [-1.6862843 , -0.99084367],\n",
       "       [ 1.75218836,  1.00596657],\n",
       "       [ 0.22397829, -0.37418169],\n",
       "       [ 0.41500455,  1.123426  ],\n",
       "       [-1.6862843 , -1.37258681],\n",
       "       [ 0.22397829, -0.13926283],\n",
       "       [ 0.89257019, -1.46068138],\n",
       "       [-1.87731056,  0.47739916],\n",
       "       [-0.25358736,  0.27184516],\n",
       "       [ 1.84770149, -1.07893824],\n",
       "       [-0.34910049,  0.06629116],\n",
       "       [ 1.08359645, -0.9027491 ],\n",
       "       [-1.01769239, -1.13766796],\n",
       "       [-1.78179743,  0.00756145],\n",
       "       [ 0.12846516,  0.27184516],\n",
       "       [-1.11320552,  0.33057487],\n",
       "       [-1.20871865,  0.30121002],\n",
       "       [-0.92217926,  0.4480343 ],\n",
       "       [ 1.65667523, -0.9027491 ],\n",
       "       [ 1.17910958,  0.53612887],\n",
       "       [ 1.08359645,  0.53612887],\n",
       "       [ 1.37013584,  2.35674998],\n",
       "       [-0.25358736, -0.13926283],\n",
       "       [ 0.41500455, -0.46227625],\n",
       "       [-0.34910049, -0.78528968],\n",
       "       [-0.0625611 , -0.52100597],\n",
       "       [ 0.98808332, -1.16703281],\n",
       "       [-0.82666613, -0.78528968],\n",
       "       [-0.15807423, -0.52100597],\n",
       "       [-1.01769239, -0.46227625],\n",
       "       [-1.11320552,  1.41707457]])"
      ]
     },
     "execution_count": 9,
     "metadata": {},
     "output_type": "execute_result"
    }
   ],
   "source": [
    "X_train_scaled\n",
    "# Output was an numpy array"
   ]
  },
  {
   "cell_type": "code",
   "execution_count": 10,
   "id": "3d342036",
   "metadata": {
    "scrolled": true
   },
   "outputs": [],
   "source": [
    "# Converting X_train_scaled (numpy array) to dataframe\n",
    "X_train_scaled = pd.DataFrame(X_train_scaled, columns = X_train.columns)\n",
    "X_test_scaled = pd.DataFrame(X_test_scaled, columns = X_test.columns)"
   ]
  },
  {
   "cell_type": "code",
   "execution_count": 11,
   "id": "08992774",
   "metadata": {},
   "outputs": [
    {
     "data": {
      "text/html": [
       "<div>\n",
       "<style scoped>\n",
       "    .dataframe tbody tr th:only-of-type {\n",
       "        vertical-align: middle;\n",
       "    }\n",
       "\n",
       "    .dataframe tbody tr th {\n",
       "        vertical-align: top;\n",
       "    }\n",
       "\n",
       "    .dataframe thead th {\n",
       "        text-align: right;\n",
       "    }\n",
       "</style>\n",
       "<table border=\"1\" class=\"dataframe\">\n",
       "  <thead>\n",
       "    <tr style=\"text-align: right;\">\n",
       "      <th></th>\n",
       "      <th>Age</th>\n",
       "      <th>EstimatedSalary</th>\n",
       "    </tr>\n",
       "  </thead>\n",
       "  <tbody>\n",
       "    <tr>\n",
       "      <th>count</th>\n",
       "      <td>280.0</td>\n",
       "      <td>280.0</td>\n",
       "    </tr>\n",
       "    <tr>\n",
       "      <th>mean</th>\n",
       "      <td>37.9</td>\n",
       "      <td>69807.1</td>\n",
       "    </tr>\n",
       "    <tr>\n",
       "      <th>std</th>\n",
       "      <td>10.2</td>\n",
       "      <td>34641.2</td>\n",
       "    </tr>\n",
       "    <tr>\n",
       "      <th>min</th>\n",
       "      <td>18.0</td>\n",
       "      <td>15000.0</td>\n",
       "    </tr>\n",
       "    <tr>\n",
       "      <th>25%</th>\n",
       "      <td>30.0</td>\n",
       "      <td>43000.0</td>\n",
       "    </tr>\n",
       "    <tr>\n",
       "      <th>50%</th>\n",
       "      <td>37.0</td>\n",
       "      <td>70500.0</td>\n",
       "    </tr>\n",
       "    <tr>\n",
       "      <th>75%</th>\n",
       "      <td>46.0</td>\n",
       "      <td>88000.0</td>\n",
       "    </tr>\n",
       "    <tr>\n",
       "      <th>max</th>\n",
       "      <td>60.0</td>\n",
       "      <td>150000.0</td>\n",
       "    </tr>\n",
       "  </tbody>\n",
       "</table>\n",
       "</div>"
      ],
      "text/plain": [
       "         Age  EstimatedSalary\n",
       "count  280.0            280.0\n",
       "mean    37.9          69807.1\n",
       "std     10.2          34641.2\n",
       "min     18.0          15000.0\n",
       "25%     30.0          43000.0\n",
       "50%     37.0          70500.0\n",
       "75%     46.0          88000.0\n",
       "max     60.0         150000.0"
      ]
     },
     "execution_count": 11,
     "metadata": {},
     "output_type": "execute_result"
    }
   ],
   "source": [
    "np.round(X_train.describe(),1)"
   ]
  },
  {
   "cell_type": "code",
   "execution_count": 12,
   "id": "2fb3d9e7",
   "metadata": {},
   "outputs": [
    {
     "data": {
      "text/html": [
       "<div>\n",
       "<style scoped>\n",
       "    .dataframe tbody tr th:only-of-type {\n",
       "        vertical-align: middle;\n",
       "    }\n",
       "\n",
       "    .dataframe tbody tr th {\n",
       "        vertical-align: top;\n",
       "    }\n",
       "\n",
       "    .dataframe thead th {\n",
       "        text-align: right;\n",
       "    }\n",
       "</style>\n",
       "<table border=\"1\" class=\"dataframe\">\n",
       "  <thead>\n",
       "    <tr style=\"text-align: right;\">\n",
       "      <th></th>\n",
       "      <th>Age</th>\n",
       "      <th>EstimatedSalary</th>\n",
       "    </tr>\n",
       "  </thead>\n",
       "  <tbody>\n",
       "    <tr>\n",
       "      <th>count</th>\n",
       "      <td>280.0</td>\n",
       "      <td>280.0</td>\n",
       "    </tr>\n",
       "    <tr>\n",
       "      <th>mean</th>\n",
       "      <td>0.0</td>\n",
       "      <td>0.0</td>\n",
       "    </tr>\n",
       "    <tr>\n",
       "      <th>std</th>\n",
       "      <td>1.0</td>\n",
       "      <td>1.0</td>\n",
       "    </tr>\n",
       "    <tr>\n",
       "      <th>min</th>\n",
       "      <td>-1.9</td>\n",
       "      <td>-1.6</td>\n",
       "    </tr>\n",
       "    <tr>\n",
       "      <th>25%</th>\n",
       "      <td>-0.7</td>\n",
       "      <td>-0.8</td>\n",
       "    </tr>\n",
       "    <tr>\n",
       "      <th>50%</th>\n",
       "      <td>-0.1</td>\n",
       "      <td>0.0</td>\n",
       "    </tr>\n",
       "    <tr>\n",
       "      <th>75%</th>\n",
       "      <td>0.8</td>\n",
       "      <td>0.5</td>\n",
       "    </tr>\n",
       "    <tr>\n",
       "      <th>max</th>\n",
       "      <td>2.1</td>\n",
       "      <td>2.4</td>\n",
       "    </tr>\n",
       "  </tbody>\n",
       "</table>\n",
       "</div>"
      ],
      "text/plain": [
       "         Age  EstimatedSalary\n",
       "count  280.0            280.0\n",
       "mean     0.0              0.0\n",
       "std      1.0              1.0\n",
       "min     -1.9             -1.6\n",
       "25%     -0.7             -0.8\n",
       "50%     -0.1              0.0\n",
       "75%      0.8              0.5\n",
       "max      2.1              2.4"
      ]
     },
     "execution_count": 12,
     "metadata": {},
     "output_type": "execute_result"
    }
   ],
   "source": [
    "# Here's Scaling is done because we can see that mean is 0 now and S.D is 1.\n",
    "np.round(X_train_scaled.describe(),1)"
   ]
  },
  {
   "cell_type": "markdown",
   "id": "20c210f3",
   "metadata": {},
   "source": [
    "# Effect of Scaling"
   ]
  },
  {
   "cell_type": "code",
   "execution_count": 13,
   "id": "f7d96758",
   "metadata": {},
   "outputs": [
    {
     "data": {
      "image/png": "[encoded data removed]",
      "text/plain": [
       "<Figure size 1200x500 with 2 Axes>"
      ]
     },
     "metadata": {},
     "output_type": "display_data"
    }
   ],
   "source": [
    "fig, (ax1, ax2) = plt.subplots(ncols=2, figsize=(12,5))\n",
    "\n",
    "ax1.scatter(X_train['Age'],X_train['EstimatedSalary'])\n",
    "ax1.set_title(\"Before Scaling\")\n",
    "ax2.scatter(X_train_scaled['Age'],X_train_scaled['EstimatedSalary'],color='red')\n",
    "ax2.set_title(\"After Scaling\")\n",
    "plt.show()"
   ]
  },
  {
   "cell_type": "code",
   "execution_count": 14,
   "id": "81e41e45",
   "metadata": {},
   "outputs": [
    {
     "data": {
      "image/png": "[encoded data removed]",
      "text/plain": [
       "<Figure size 1200x500 with 2 Axes>"
      ]
     },
     "metadata": {},
     "output_type": "display_data"
    }
   ],
   "source": [
    " fig, (ax1, ax2) = plt.subplots(ncols=2, figsize=(12,5))\n",
    "    \n",
    "# before scaling\n",
    "ax1.set_title('Before Scaling')\n",
    "sns.kdeplot(X_train['Age'], ax=ax1)\n",
    "sns.kdeplot(X_train['EstimatedSalary'], ax=ax1)\n",
    "\n",
    "# after scaling\n",
    "ax2.set_title('After Standard Scaling')\n",
    "sns.kdeplot(X_train_scaled['Age'], ax=ax2)\n",
    "sns.kdeplot(X_train_scaled['EstimatedSalary'], ax=ax2)\n",
    "plt.show()"
   ]
  },
  {
   "cell_type": "markdown",
   "id": "94f1145d",
   "metadata": {},
   "source": [
    "# Comparison of Distributions"
   ]
  },
  {
   "cell_type": "code",
   "execution_count": 15,
   "id": "284a59ab",
   "metadata": {},
   "outputs": [
    {
     "data": {
      "image/png": "[encoded data removed]",
      "text/plain": [
       "<Figure size 1200x500 with 2 Axes>"
      ]
     },
     "metadata": {},
     "output_type": "display_data"
    }
   ],
   "source": [
    "fig, (ax1, ax2) = plt.subplots(ncols=2, figsize=(12,5))\n",
    "\n",
    "# Before scaling\n",
    "ax1.set_title('Age Distribution Before Scaling')\n",
    "sns.kdeplot(X_train['Age'], ax= ax1)\n",
    "\n",
    "# After Scaling\n",
    "ax2.set_title('Age Distribution After Scaling')\n",
    "sns.kdeplot(X_train_scaled['Age'], ax= ax2)\n",
    "plt.show()"
   ]
  },
  {
   "cell_type": "markdown",
   "id": "eda79a58",
   "metadata": {},
   "source": [
    "# Why scaling is important?"
   ]
  },
  {
   "cell_type": "code",
   "execution_count": 16,
   "id": "d904334f",
   "metadata": {},
   "outputs": [],
   "source": [
    "from sklearn.linear_model import LogisticRegression"
   ]
  },
  {
   "cell_type": "code",
   "execution_count": 17,
   "id": "7183cc4c",
   "metadata": {},
   "outputs": [],
   "source": [
    "lr = LogisticRegression()\n",
    "lr_scaled = LogisticRegression()"
   ]
  },
  {
   "cell_type": "code",
   "execution_count": 18,
   "id": "0bf20f88",
   "metadata": {},
   "outputs": [
    {
     "data": {
      "text/html": [
       "<style>#sk-container-id-1 {color: black;}#sk-container-id-1 pre{padding: 0;}#sk-container-id-1 div.sk-toggleable {background-color: white;}#sk-container-id-1 label.sk-toggleable__label {cursor: pointer;display: block;width: 100%;margin-bottom: 0;padding: 0.3em;box-sizing: border-box;text-align: center;}#sk-container-id-1 label.sk-toggleable__label-arrow:before {content: \"▸\";float: left;margin-right: 0.25em;color: #696969;}#sk-container-id-1 label.sk-toggleable__label-arrow:hover:before {color: black;}#sk-container-id-1 div.sk-estimator:hover label.sk-toggleable__label-arrow:before {color: black;}#sk-container-id-1 div.sk-toggleable__content {max-height: 0;max-width: 0;overflow: hidden;text-align: left;background-color: #f0f8ff;}#sk-container-id-1 div.sk-toggleable__content pre {margin: 0.2em;color: black;border-radius: 0.25em;background-color: #f0f8ff;}#sk-container-id-1 input.sk-toggleable__control:checked~div.sk-toggleable__content {max-height: 200px;max-width: 100%;overflow: auto;}#sk-container-id-1 input.sk-toggleable__control:checked~label.sk-toggleable__label-arrow:before {content: \"▾\";}#sk-container-id-1 div.sk-estimator input.sk-toggleable__control:checked~label.sk-toggleable__label {background-color: #d4ebff;}#sk-container-id-1 div.sk-label input.sk-toggleable__control:checked~label.sk-toggleable__label {background-color: #d4ebff;}#sk-container-id-1 input.sk-hidden--visually {border: 0;clip: rect(1px 1px 1px 1px);clip: rect(1px, 1px, 1px, 1px);height: 1px;margin: -1px;overflow: hidden;padding: 0;position: absolute;width: 1px;}#sk-container-id-1 div.sk-estimator {font-family: monospace;background-color: #f0f8ff;border: 1px dotted black;border-radius: 0.25em;box-sizing: border-box;margin-bottom: 0.5em;}#sk-container-id-1 div.sk-estimator:hover {background-color: #d4ebff;}#sk-container-id-1 div.sk-parallel-item::after {content: \"\";width: 100%;border-bottom: 1px solid gray;flex-grow: 1;}#sk-container-id-1 div.sk-label:hover label.sk-toggleable__label {background-color: #d4ebff;}#sk-container-id-1 div.sk-serial::before {content: \"\";position: absolute;border-left: 1px solid gray;box-sizing: border-box;top: 0;bottom: 0;left: 50%;z-index: 0;}#sk-container-id-1 div.sk-serial {display: flex;flex-direction: column;align-items: center;background-color: white;padding-right: 0.2em;padding-left: 0.2em;position: relative;}#sk-container-id-1 div.sk-item {position: relative;z-index: 1;}#sk-container-id-1 div.sk-parallel {display: flex;align-items: stretch;justify-content: center;background-color: white;position: relative;}#sk-container-id-1 div.sk-item::before, #sk-container-id-1 div.sk-parallel-item::before {content: \"\";position: absolute;border-left: 1px solid gray;box-sizing: border-box;top: 0;bottom: 0;left: 50%;z-index: -1;}#sk-container-id-1 div.sk-parallel-item {display: flex;flex-direction: column;z-index: 1;position: relative;background-color: white;}#sk-container-id-1 div.sk-parallel-item:first-child::after {align-self: flex-end;width: 50%;}#sk-container-id-1 div.sk-parallel-item:last-child::after {align-self: flex-start;width: 50%;}#sk-container-id-1 div.sk-parallel-item:only-child::after {width: 0;}#sk-container-id-1 div.sk-dashed-wrapped {border: 1px dashed gray;margin: 0 0.4em 0.5em 0.4em;box-sizing: border-box;padding-bottom: 0.4em;background-color: white;}#sk-container-id-1 div.sk-label label {font-family: monospace;font-weight: bold;display: inline-block;line-height: 1.2em;}#sk-container-id-1 div.sk-label-container {text-align: center;}#sk-container-id-1 div.sk-container {/* jupyter's `normalize.less` sets `[hidden] { display: none; }` but bootstrap.min.css set `[hidden] { display: none !important; }` so we also need the `!important` here to be able to override the default hidden behavior on the sphinx rendered scikit-learn.org. See: https://github.com/scikit-learn/scikit-learn/issues/21755 */display: inline-block !important;position: relative;}#sk-container-id-1 div.sk-text-repr-fallback {display: none;}</style><div id=\"sk-container-id-1\" class=\"sk-top-container\"><div class=\"sk-text-repr-fallback\"><pre>LogisticRegression()</pre><b>In a Jupyter environment, please rerun this cell to show the HTML representation or trust the notebook. <br />On GitHub, the HTML representation is unable to render, please try loading this page with nbviewer.org.</b></div><div class=\"sk-container\" hidden><div class=\"sk-item\"><div class=\"sk-estimator sk-toggleable\"><input class=\"sk-toggleable__control sk-hidden--visually\" id=\"sk-estimator-id-1\" type=\"checkbox\" checked><label for=\"sk-estimator-id-1\" class=\"sk-toggleable__label sk-toggleable__label-arrow\">LogisticRegression</label><div class=\"sk-toggleable__content\"><pre>LogisticRegression()</pre></div></div></div></div></div>"
      ],
      "text/plain": [
       "LogisticRegression()"
      ]
     },
     "execution_count": 18,
     "metadata": {},
     "output_type": "execute_result"
    }
   ],
   "source": [
    "lr.fit(X_train,Y_train)\n",
    "lr_scaled.fit(X_train_scaled,Y_train)"
   ]
  },
  {
   "cell_type": "code",
   "execution_count": 19,
   "id": "7a0d186e",
   "metadata": {},
   "outputs": [],
   "source": [
    "y_pred = lr.predict(X_test)\n",
    "y_pred_scaled = lr_scaled.predict(X_test_scaled)"
   ]
  },
  {
   "cell_type": "code",
   "execution_count": 20,
   "id": "7602d9ab",
   "metadata": {},
   "outputs": [],
   "source": [
    "from sklearn.metrics import accuracy_score"
   ]
  },
  {
   "cell_type": "code",
   "execution_count": 23,
   "id": "1f0d4281",
   "metadata": {
    "scrolled": false
   },
   "outputs": [
    {
     "name": "stdout",
     "output_type": "stream",
     "text": [
      "Actual 0.6583333333333333\n",
      "Scaled 0.8666666666666667\n"
     ]
    }
   ],
   "source": [
    "print(\"Actual\",accuracy_score(Y_test,y_pred))\n",
    "print(\"Scaled\",accuracy_score(Y_test,y_pred_scaled))"
   ]
  },
  {
   "cell_type": "code",
   "execution_count": null,
   "id": "9d43ff65",
   "metadata": {},
   "outputs": [],
   "source": [
    "from sklearn.tree import DecisionTreeClassifier"
   ]
  },
  {
   "cell_type": "code",
   "execution_count": null,
   "id": "334102e9",
   "metadata": {},
   "outputs": [],
   "source": [
    "dt = DecisionTreeClassifier()\n",
    "dt_scaled = DecisionTreeClassifier()"
   ]
  },
  {
   "cell_type": "code",
   "execution_count": null,
   "id": "cf60f248",
   "metadata": {},
   "outputs": [],
   "source": [
    "dt.fit(X_train,Y_train)\n",
    "dt_scaled.fit(X_train_scaled,Y_train)"
   ]
  },
  {
   "cell_type": "code",
   "execution_count": null,
   "id": "fd182656",
   "metadata": {},
   "outputs": [],
   "source": [
    "Y_pred = dt.predict(X_test)\n",
    "Y_pred_scaled = dt_scaled.predict(X_test_scaled)"
   ]
  },
  {
   "cell_type": "code",
   "execution_count": null,
   "id": "6321497b",
   "metadata": {},
   "outputs": [],
   "source": [
    "print(\"Actual\",accuracy_score(Y_test,Y_pred))\n",
    "print(\"Scaled\",accuracy_score(Y_test,Y_pred_scaled))"
   ]
  },
  {
   "cell_type": "code",
   "execution_count": null,
   "id": "c2cb67fc",
   "metadata": {},
   "outputs": [],
   "source": [
    "df.describe()"
   ]
  },
  {
   "cell_type": "markdown",
   "id": "83e3e22a",
   "metadata": {},
   "source": [
    "# Effect of Outlier"
   ]
  },
  {
   "cell_type": "code",
   "execution_count": 13,
   "id": "1779fc4c",
   "metadata": {},
   "outputs": [
    {
     "ename": "AttributeError",
     "evalue": "'DataFrame' object has no attribute 'append'",
     "output_type": "error",
     "traceback": [
      "\u001b[1;31m---------------------------------------------------------------------------\u001b[0m",
      "\u001b[1;31mAttributeError\u001b[0m                            Traceback (most recent call last)",
      "\u001b[1;32m~\\AppData\\Local\\Temp\\ipykernel_12784\\2365817244.py\u001b[0m in \u001b[0;36m?\u001b[1;34m()\u001b[0m\n\u001b[1;32m----> 1\u001b[1;33m \u001b[0mdf\u001b[0m \u001b[1;33m=\u001b[0m \u001b[0mdf\u001b[0m\u001b[1;33m.\u001b[0m\u001b[0mappend\u001b[0m\u001b[1;33m(\u001b[0m\u001b[0mpd\u001b[0m\u001b[1;33m.\u001b[0m\u001b[0mDataFrame\u001b[0m\u001b[1;33m(\u001b[0m\u001b[1;33m{\u001b[0m\u001b[1;34m'Age'\u001b[0m\u001b[1;33m:\u001b[0m\u001b[1;33m[\u001b[0m\u001b[1;36m5\u001b[0m\u001b[1;33m,\u001b[0m\u001b[1;36m90\u001b[0m\u001b[1;33m,\u001b[0m\u001b[1;36m95\u001b[0m\u001b[1;33m]\u001b[0m\u001b[1;33m,\u001b[0m\u001b[1;34m'EstimatedSalary'\u001b[0m\u001b[1;33m:\u001b[0m\u001b[1;33m[\u001b[0m\u001b[1;36m1000\u001b[0m\u001b[1;33m,\u001b[0m\u001b[1;36m250000\u001b[0m\u001b[1;33m,\u001b[0m\u001b[1;36m350000\u001b[0m\u001b[1;33m]\u001b[0m\u001b[1;33m,\u001b[0m\u001b[1;34m'Purchased'\u001b[0m\u001b[1;33m:\u001b[0m\u001b[1;33m[\u001b[0m\u001b[1;36m0\u001b[0m\u001b[1;33m,\u001b[0m\u001b[1;36m1\u001b[0m\u001b[1;33m,\u001b[0m\u001b[1;36m1\u001b[0m\u001b[1;33m]\u001b[0m\u001b[1;33m}\u001b[0m\u001b[1;33m)\u001b[0m\u001b[1;33m,\u001b[0m\u001b[0mignore_index\u001b[0m\u001b[1;33m=\u001b[0m\u001b[1;32mTrue\u001b[0m\u001b[1;33m)\u001b[0m\u001b[1;33m\u001b[0m\u001b[1;33m\u001b[0m\u001b[0m\n\u001b[0m",
      "\u001b[1;32m~\\anaconda3\\Lib\\site-packages\\pandas\\core\\generic.py\u001b[0m in \u001b[0;36m?\u001b[1;34m(self, name)\u001b[0m\n\u001b[0;32m   5985\u001b[0m             \u001b[1;32mand\u001b[0m \u001b[0mname\u001b[0m \u001b[1;32mnot\u001b[0m \u001b[1;32min\u001b[0m \u001b[0mself\u001b[0m\u001b[1;33m.\u001b[0m\u001b[0m_accessors\u001b[0m\u001b[1;33m\u001b[0m\u001b[1;33m\u001b[0m\u001b[0m\n\u001b[0;32m   5986\u001b[0m             \u001b[1;32mand\u001b[0m \u001b[0mself\u001b[0m\u001b[1;33m.\u001b[0m\u001b[0m_info_axis\u001b[0m\u001b[1;33m.\u001b[0m\u001b[0m_can_hold_identifiers_and_holds_name\u001b[0m\u001b[1;33m(\u001b[0m\u001b[0mname\u001b[0m\u001b[1;33m)\u001b[0m\u001b[1;33m\u001b[0m\u001b[1;33m\u001b[0m\u001b[0m\n\u001b[0;32m   5987\u001b[0m         ):\n\u001b[0;32m   5988\u001b[0m             \u001b[1;32mreturn\u001b[0m \u001b[0mself\u001b[0m\u001b[1;33m[\u001b[0m\u001b[0mname\u001b[0m\u001b[1;33m]\u001b[0m\u001b[1;33m\u001b[0m\u001b[1;33m\u001b[0m\u001b[0m\n\u001b[1;32m-> 5989\u001b[1;33m         \u001b[1;32mreturn\u001b[0m \u001b[0mobject\u001b[0m\u001b[1;33m.\u001b[0m\u001b[0m__getattribute__\u001b[0m\u001b[1;33m(\u001b[0m\u001b[0mself\u001b[0m\u001b[1;33m,\u001b[0m \u001b[0mname\u001b[0m\u001b[1;33m)\u001b[0m\u001b[1;33m\u001b[0m\u001b[1;33m\u001b[0m\u001b[0m\n\u001b[0m",
      "\u001b[1;31mAttributeError\u001b[0m: 'DataFrame' object has no attribute 'append'"
     ]
    }
   ],
   "source": [
    "df = df.append(pd.DataFrame({'Age':[5,90,95],'EstimatedSalary':[1000,250000,350000],'Purchased':[0,1,1]}),ignore_index=True)"
   ]
  },
  {
   "cell_type": "code",
   "execution_count": null,
   "id": "443f797e",
   "metadata": {},
   "outputs": [],
   "source": [
    "df"
   ]
  },
  {
   "cell_type": "code",
   "execution_count": null,
   "id": "22b728c4",
   "metadata": {},
   "outputs": [],
   "source": [
    "plt.scatter(df['Age'], df['EstimatedSalary'])"
   ]
  },
  {
   "cell_type": "code",
   "execution_count": null,
   "id": "a80885bf",
   "metadata": {},
   "outputs": [],
   "source": [
    "from sklearn.model_selection import train_test_split\n",
    "X_train, X_test, y_train, y_test = train_test_split(df.drop('Purchased', axis=1),\n",
    "                                                    df['Purchased'],\n",
    "                                                    test_size=0.3,\n",
    "                                                    random_state=0)\n",
    "\n",
    "X_train.shape, X_test.shape"
   ]
  },
  {
   "cell_type": "code",
   "execution_count": null,
   "id": "5413c465",
   "metadata": {},
   "outputs": [],
   "source": [
    "from sklearn.preprocessing import StandardScaler\n",
    "\n",
    "scaler = StandardScaler()\n",
    "\n",
    "# fit the scaler to the train set, it will learn the parameters\n",
    "scaler.fit(X_train)\n",
    "\n",
    "# transform train and test sets\n",
    "X_train_scaled = scaler.transform(X_train)\n",
    "X_test_scaled = scaler.transform(X_test)"
   ]
  },
  {
   "cell_type": "code",
   "execution_count": null,
   "id": "1a39eb27",
   "metadata": {},
   "outputs": [],
   "source": [
    "X_train_scaled = pd.DataFrame(X_train_scaled, columns=X_train.columns)\n",
    "X_test_scaled = pd.DataFrame(X_test_scaled, columns=X_test.columns)"
   ]
  },
  {
   "cell_type": "code",
   "execution_count": null,
   "id": "6908e52a",
   "metadata": {},
   "outputs": [],
   "source": [
    "fig, (ax1, ax2) = plt.subplots(ncols=2, figsize=(12, 5))\n",
    "\n",
    "ax1.scatter(X_train['Age'], X_train['EstimatedSalary'])\n",
    "ax1.set_title(\"Before Scaling\")\n",
    "ax2.scatter(X_train_scaled['Age'], X_train_scaled['EstimatedSalary'],color='red')\n",
    "ax2.set_title(\"After Scaling\")\n",
    "plt.show()"
   ]
  },
  {
   "cell_type": "code",
   "execution_count": null,
   "id": "f0291e60",
   "metadata": {},
   "outputs": [],
   "source": []
  }
 ],
 "metadata": {
  "kernelspec": {
   "display_name": "Python 3 (ipykernel)",
   "language": "python",
   "name": "python3"
  },
  "language_info": {
   "codemirror_mode": {
    "name": "ipython",
    "version": 3
   },
   "file_extension": ".py",
   "mimetype": "text/x-python",
   "name": "python",
   "nbconvert_exporter": "python",
   "pygments_lexer": "ipython3",
   "version": "3.11.5"
  }
 },
 "nbformat": 4,
 "nbformat_minor": 5
}
